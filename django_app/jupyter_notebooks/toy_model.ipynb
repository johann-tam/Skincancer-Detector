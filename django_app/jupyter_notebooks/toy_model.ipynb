{
 "cells": [
  {
   "cell_type": "code",
   "execution_count": 4,
   "id": "0ecc67d7",
   "metadata": {},
   "outputs": [],
   "source": [
    "# import libraries\n",
    "import pandas as pd # Import Pandas for data manipulation using dataframes\n",
    "from sklearn.model_selection import train_test_split\n",
    "import numpy as np # Import Numpy for data statistical analysis \n",
    "import matplotlib.pyplot as plt # Import matplotlib for data visualisation\n",
    "import random\n",
    "import sqlite3"
   ]
  },
  {
   "cell_type": "code",
   "execution_count": 5,
   "id": "7f6cc6b4",
   "metadata": {},
   "outputs": [
    {
     "name": "stdout",
     "output_type": "stream",
     "text": [
      "Connection to DB successfully\n",
      "('django_migrations',)\n",
      "('sqlite_sequence',)\n",
      "('auth_group_permissions',)\n",
      "('auth_user_groups',)\n",
      "('auth_user_user_permissions',)\n",
      "('django_admin_log',)\n",
      "('django_content_type',)\n",
      "('auth_permission',)\n",
      "('auth_group',)\n",
      "('auth_user',)\n",
      "('django_session',)\n",
      "('hmnist_28_28_L',)\n",
      "('detection_system_img',)\n",
      "('detection_system_image',)\n"
     ]
    }
   ],
   "source": [
    "# Load data\n",
    "\n",
    "def DB_Connection(db_name):\n",
    "    ''' Returns a Database connection'''\n",
    "    conn = sqlite3.connect(db_name)\n",
    "    print(\"Connection to DB successfully\")\n",
    "    return conn\n",
    "\n",
    "\n",
    "# Connect to database \n",
    "db_conn = DB_Connection('../db.sqlite3')\n",
    "cursor = db_conn.cursor()\n",
    "\n",
    "# List of all tables in the database\n",
    "for row in cursor.execute(\"SELECT name FROM sqlite_master WHERE type='table';\"):\n",
    "    print(row)\n",
    "\n",
    "complete_data_l = pd.read_sql_query(\"SELECT * FROM hmnist_28_28_L\", db_conn)"
   ]
  },
  {
   "cell_type": "code",
   "execution_count": 21,
   "id": "bf788a1a",
   "metadata": {},
   "outputs": [
    {
     "data": {
      "text/plain": [
       "(10015, 785)"
      ]
     },
     "execution_count": 21,
     "metadata": {},
     "output_type": "execute_result"
    }
   ],
   "source": [
    "complete_data_l.shape"
   ]
  },
  {
   "cell_type": "code",
   "execution_count": 6,
   "id": "fecb4f13",
   "metadata": {},
   "outputs": [
    {
     "data": {
      "text/html": [
       "<div>\n",
       "<style scoped>\n",
       "    .dataframe tbody tr th:only-of-type {\n",
       "        vertical-align: middle;\n",
       "    }\n",
       "\n",
       "    .dataframe tbody tr th {\n",
       "        vertical-align: top;\n",
       "    }\n",
       "\n",
       "    .dataframe thead th {\n",
       "        text-align: right;\n",
       "    }\n",
       "</style>\n",
       "<table border=\"1\" class=\"dataframe\">\n",
       "  <thead>\n",
       "    <tr style=\"text-align: right;\">\n",
       "      <th></th>\n",
       "      <th>pixel0000</th>\n",
       "      <th>pixel0001</th>\n",
       "      <th>pixel0002</th>\n",
       "      <th>pixel0003</th>\n",
       "      <th>pixel0004</th>\n",
       "      <th>pixel0005</th>\n",
       "      <th>pixel0006</th>\n",
       "      <th>pixel0007</th>\n",
       "      <th>pixel0008</th>\n",
       "      <th>pixel0009</th>\n",
       "      <th>...</th>\n",
       "      <th>pixel0775</th>\n",
       "      <th>pixel0776</th>\n",
       "      <th>pixel0777</th>\n",
       "      <th>pixel0778</th>\n",
       "      <th>pixel0779</th>\n",
       "      <th>pixel0780</th>\n",
       "      <th>pixel0781</th>\n",
       "      <th>pixel0782</th>\n",
       "      <th>pixel0783</th>\n",
       "      <th>label</th>\n",
       "    </tr>\n",
       "  </thead>\n",
       "  <tbody>\n",
       "    <tr>\n",
       "      <th>0</th>\n",
       "      <td>169</td>\n",
       "      <td>171</td>\n",
       "      <td>170</td>\n",
       "      <td>177</td>\n",
       "      <td>181</td>\n",
       "      <td>182</td>\n",
       "      <td>181</td>\n",
       "      <td>185</td>\n",
       "      <td>194</td>\n",
       "      <td>192</td>\n",
       "      <td>...</td>\n",
       "      <td>184</td>\n",
       "      <td>186</td>\n",
       "      <td>185</td>\n",
       "      <td>180</td>\n",
       "      <td>157</td>\n",
       "      <td>140</td>\n",
       "      <td>140</td>\n",
       "      <td>159</td>\n",
       "      <td>165</td>\n",
       "      <td>2</td>\n",
       "    </tr>\n",
       "    <tr>\n",
       "      <th>1</th>\n",
       "      <td>19</td>\n",
       "      <td>57</td>\n",
       "      <td>105</td>\n",
       "      <td>140</td>\n",
       "      <td>149</td>\n",
       "      <td>148</td>\n",
       "      <td>144</td>\n",
       "      <td>155</td>\n",
       "      <td>170</td>\n",
       "      <td>170</td>\n",
       "      <td>...</td>\n",
       "      <td>172</td>\n",
       "      <td>175</td>\n",
       "      <td>160</td>\n",
       "      <td>144</td>\n",
       "      <td>114</td>\n",
       "      <td>89</td>\n",
       "      <td>47</td>\n",
       "      <td>18</td>\n",
       "      <td>18</td>\n",
       "      <td>2</td>\n",
       "    </tr>\n",
       "    <tr>\n",
       "      <th>2</th>\n",
       "      <td>155</td>\n",
       "      <td>163</td>\n",
       "      <td>161</td>\n",
       "      <td>167</td>\n",
       "      <td>167</td>\n",
       "      <td>172</td>\n",
       "      <td>155</td>\n",
       "      <td>152</td>\n",
       "      <td>165</td>\n",
       "      <td>175</td>\n",
       "      <td>...</td>\n",
       "      <td>163</td>\n",
       "      <td>178</td>\n",
       "      <td>157</td>\n",
       "      <td>166</td>\n",
       "      <td>167</td>\n",
       "      <td>148</td>\n",
       "      <td>141</td>\n",
       "      <td>136</td>\n",
       "      <td>115</td>\n",
       "      <td>2</td>\n",
       "    </tr>\n",
       "    <tr>\n",
       "      <th>3</th>\n",
       "      <td>25</td>\n",
       "      <td>71</td>\n",
       "      <td>116</td>\n",
       "      <td>139</td>\n",
       "      <td>136</td>\n",
       "      <td>153</td>\n",
       "      <td>148</td>\n",
       "      <td>161</td>\n",
       "      <td>172</td>\n",
       "      <td>162</td>\n",
       "      <td>...</td>\n",
       "      <td>125</td>\n",
       "      <td>135</td>\n",
       "      <td>138</td>\n",
       "      <td>137</td>\n",
       "      <td>111</td>\n",
       "      <td>71</td>\n",
       "      <td>32</td>\n",
       "      <td>16</td>\n",
       "      <td>16</td>\n",
       "      <td>2</td>\n",
       "    </tr>\n",
       "    <tr>\n",
       "      <th>4</th>\n",
       "      <td>129</td>\n",
       "      <td>162</td>\n",
       "      <td>181</td>\n",
       "      <td>196</td>\n",
       "      <td>205</td>\n",
       "      <td>208</td>\n",
       "      <td>205</td>\n",
       "      <td>213</td>\n",
       "      <td>225</td>\n",
       "      <td>224</td>\n",
       "      <td>...</td>\n",
       "      <td>210</td>\n",
       "      <td>197</td>\n",
       "      <td>172</td>\n",
       "      <td>190</td>\n",
       "      <td>195</td>\n",
       "      <td>193</td>\n",
       "      <td>181</td>\n",
       "      <td>147</td>\n",
       "      <td>88</td>\n",
       "      <td>2</td>\n",
       "    </tr>\n",
       "  </tbody>\n",
       "</table>\n",
       "<p>5 rows × 785 columns</p>\n",
       "</div>"
      ],
      "text/plain": [
       "   pixel0000  pixel0001  pixel0002  pixel0003  pixel0004  pixel0005  \\\n",
       "0        169        171        170        177        181        182   \n",
       "1         19         57        105        140        149        148   \n",
       "2        155        163        161        167        167        172   \n",
       "3         25         71        116        139        136        153   \n",
       "4        129        162        181        196        205        208   \n",
       "\n",
       "   pixel0006  pixel0007  pixel0008  pixel0009  ...  pixel0775  pixel0776  \\\n",
       "0        181        185        194        192  ...        184        186   \n",
       "1        144        155        170        170  ...        172        175   \n",
       "2        155        152        165        175  ...        163        178   \n",
       "3        148        161        172        162  ...        125        135   \n",
       "4        205        213        225        224  ...        210        197   \n",
       "\n",
       "   pixel0777  pixel0778  pixel0779  pixel0780  pixel0781  pixel0782  \\\n",
       "0        185        180        157        140        140        159   \n",
       "1        160        144        114         89         47         18   \n",
       "2        157        166        167        148        141        136   \n",
       "3        138        137        111         71         32         16   \n",
       "4        172        190        195        193        181        147   \n",
       "\n",
       "   pixel0783  label  \n",
       "0        165      2  \n",
       "1         18      2  \n",
       "2        115      2  \n",
       "3         16      2  \n",
       "4         88      2  \n",
       "\n",
       "[5 rows x 785 columns]"
      ]
     },
     "execution_count": 6,
     "metadata": {},
     "output_type": "execute_result"
    }
   ],
   "source": [
    "# Sanity check\n",
    "# Print head of L dataset\n",
    "complete_data_l.head()\n"
   ]
  },
  {
   "cell_type": "code",
   "execution_count": 31,
   "id": "756e221d",
   "metadata": {},
   "outputs": [
    {
     "name": "stdout",
     "output_type": "stream",
     "text": [
      "(1, 785)\n"
     ]
    }
   ],
   "source": [
    "# Print shape of both datasets\n",
    "print(complete_data_l[:1].shape)"
   ]
  },
  {
   "cell_type": "code",
   "execution_count": null,
   "id": "1becf9b4",
   "metadata": {},
   "outputs": [],
   "source": []
  },
  {
   "cell_type": "code",
   "execution_count": 8,
   "id": "c4fbf57c",
   "metadata": {},
   "outputs": [],
   "source": [
    "#Split data set into train, test and validate sets\n",
    "# Define percentage for training-set\n",
    "train_split = 0.8\n",
    "# Define percentage for test-set\n",
    "test_split = 0.05\n",
    "# Split the set percentage into training_df and the rest into dummy_df\n",
    "train_df, dummy_df = train_test_split(complete_data_l, train_size=train_split, shuffle=True, random_state=123)\n",
    "# \n",
    "dummy_split = test_split/(1.0 - train_split)\n",
    "# Split dummy into test and validation dataframes\n",
    "test_df, valid_df = train_test_split(dummy_df, train_size = dummy_split)\n",
    "\n",
    "# Transform dataframes into arrays\n",
    "training = np.array(train_df, dtype='float32')\n",
    "testing = np.array(test_df, dtype='float32')\n",
    "validating = np.array(valid_df, dtype = 'float32')"
   ]
  },
  {
   "cell_type": "code",
   "execution_count": 9,
   "id": "451d6ae5",
   "metadata": {},
   "outputs": [
    {
     "data": {
      "text/plain": [
       "<matplotlib.image.AxesImage at 0x7f540a46aa90>"
      ]
     },
     "execution_count": 9,
     "metadata": {},
     "output_type": "execute_result"
    },
    {
     "data": {
      "image/png": "[encoded data removed]",
      "text/plain": [
       "<Figure size 432x288 with 1 Axes>"
      ]
     },
     "metadata": {
      "needs_background": "light"
     },
     "output_type": "display_data"
    }
   ],
   "source": [
    "# Show image\n",
    "i = random.randint(1, 1000)\n",
    "plt.imshow(training[i, 1:].reshape((28,28)), cmap='gray')\n"
   ]
  },
  {
   "cell_type": "code",
   "execution_count": 10,
   "id": "eaf62623",
   "metadata": {},
   "outputs": [
    {
     "data": {
      "text/plain": [
       "4.0"
      ]
     },
     "execution_count": 10,
     "metadata": {},
     "output_type": "execute_result"
    }
   ],
   "source": [
    "# Extract label for the current DatasetImage\n",
    "label = training[i, -1]\n",
    "label\n",
    "\n",
    "#Label directory\n",
    "# 0 = akies\n",
    "# 1 = bcc\n",
    "# 2 = bkl\n",
    "# 3 = df\n",
    "# 4 = mel\n",
    "# 5 = nv\n",
    "# 6 = vascs (multiple)"
   ]
  },
  {
   "cell_type": "code",
   "execution_count": 11,
   "id": "f4bfd1d9",
   "metadata": {},
   "outputs": [],
   "source": [
    "# Prepare the datasets, divide by 255 to get value between 0-1\n",
    "X_train = training[:,:-1]/255\n",
    "# Extract labels\n",
    "y_train = training[:, -1]\n",
    "\n",
    "X_test = testing[:,:-1]/255\n",
    "# Extract labels\n",
    "y_test = testing[:, -1]"
   ]
  },
  {
   "cell_type": "code",
   "execution_count": 33,
   "id": "508431e1",
   "metadata": {},
   "outputs": [
    {
     "data": {
      "text/plain": [
       "(1, 28, 28, 1)"
      ]
     },
     "execution_count": 33,
     "metadata": {},
     "output_type": "execute_result"
    }
   ],
   "source": [
    "# Reshape the data for the CNN model\n",
    "X_train = X_train.reshape(X_train.shape[0], * (28, 28, 1))\n",
    "X_test = X_test.reshape(X_test.shape[0], * (28, 28, 1))\n",
    "\n",
    "X_train[:1].shape"
   ]
  },
  {
   "cell_type": "code",
   "execution_count": 13,
   "id": "a17cfb0a",
   "metadata": {},
   "outputs": [],
   "source": [
    "# Import libraries\n",
    "import keras\n",
    "from keras.models import Sequential\n",
    "from keras.layers import Conv2D, MaxPooling2D, Dense, Flatten, Dropout\n",
    "from tensorflow.keras.optimizers import Adam\n",
    "from keras.callbacks import TensorBoard"
   ]
  },
  {
   "cell_type": "code",
   "execution_count": 14,
   "id": "97691569",
   "metadata": {},
   "outputs": [
    {
     "name": "stdout",
     "output_type": "stream",
     "text": [
      "Model: \"sequential\"\n",
      "_________________________________________________________________\n",
      "Layer (type)                 Output Shape              Param #   \n",
      "=================================================================\n",
      "conv2d (Conv2D)              (None, 26, 26, 32)        320       \n",
      "_________________________________________________________________\n",
      "max_pooling2d (MaxPooling2D) (None, 13, 13, 32)        0         \n",
      "_________________________________________________________________\n",
      "conv2d_1 (Conv2D)            (None, 11, 11, 64)        18496     \n",
      "_________________________________________________________________\n",
      "max_pooling2d_1 (MaxPooling2 (None, 5, 5, 64)          0         \n",
      "_________________________________________________________________\n",
      "flatten (Flatten)            (None, 1600)              0         \n",
      "_________________________________________________________________\n",
      "dense (Dense)                (None, 64)                102464    \n",
      "_________________________________________________________________\n",
      "dense_1 (Dense)              (None, 32)                2080      \n",
      "_________________________________________________________________\n",
      "dense_2 (Dense)              (None, 16)                528       \n",
      "_________________________________________________________________\n",
      "dense_3 (Dense)              (None, 7)                 119       \n",
      "=================================================================\n",
      "Total params: 124,007\n",
      "Trainable params: 124,007\n",
      "Non-trainable params: 0\n",
      "_________________________________________________________________\n"
     ]
    },
    {
     "name": "stderr",
     "output_type": "stream",
     "text": [
      "/home/linus/anaconda3/lib/python3.8/site-packages/keras/backend.py:4906: UserWarning: \"`sparse_categorical_crossentropy` received `from_logits=True`, but the `output` argument was produced by a sigmoid or softmax activation and thus does not represent logits. Was this intended?\"\n",
      "  warnings.warn(\n"
     ]
    },
    {
     "name": "stdout",
     "output_type": "stream",
     "text": [
      "8012/8012 [==============================] - 32s 4ms/step - loss: 1.1043 - accuracy: 0.6706 - val_loss: 1.0536 - val_accuracy: 0.6620\n"
     ]
    }
   ],
   "source": [
    "model = keras.models.Sequential()\n",
    "\n",
    "model.add(keras.layers.Conv2D(32, (3,3), activation = 'relu', input_shape=(28, 28, 1)))\n",
    "\n",
    "model.add(keras.layers.MaxPooling2D(pool_size=(2,2)))\n",
    "\n",
    "model.add(keras.layers.Conv2D(64, (3, 3), activation = 'relu'))\n",
    "\n",
    "model.add(keras.layers.MaxPooling2D(pool_size=(2,2)))\n",
    "\n",
    "model.add(keras.layers.Flatten())\n",
    "\n",
    "model.add(keras.layers.Dense(64, activation = 'relu'))\n",
    "\n",
    "model.add(keras.layers.Dense(32, activation = 'relu'))\n",
    "\n",
    "model.add(keras.layers.Dense(16, activation = 'relu'))\n",
    "\n",
    "model.add(keras.layers.Dense(7, activation = \"softmax\"))\n",
    "\n",
    "model.compile(optimizer='adam',\n",
    "              loss=keras.losses.SparseCategoricalCrossentropy(from_logits=True),\n",
    "              metrics=['accuracy'])\n",
    "model.summary()\n",
    "\n",
    "history = model.fit(X_train,y_train, epochs=1,validation_data=(X_test,y_test), batch_size = 1)\n"
   ]
  },
  {
   "cell_type": "code",
   "execution_count": 16,
   "id": "e86e3673",
   "metadata": {},
   "outputs": [],
   "source": [
    "model.save('mock_model.h5')"
   ]
  },
  {
   "cell_type": "code",
   "execution_count": null,
   "id": "1f35c2b7",
   "metadata": {},
   "outputs": [],
   "source": []
  }
 ],
 "metadata": {
  "kernelspec": {
   "display_name": "Python 3",
   "language": "python",
   "name": "python3"
  },
  "language_info": {
   "codemirror_mode": {
    "name": "ipython",
    "version": 3
   },
   "file_extension": ".py",
   "mimetype": "text/x-python",
   "name": "python",
   "nbconvert_exporter": "python",
   "pygments_lexer": "ipython3",
   "version": "3.8.8"
  }
 },
 "nbformat": 4,
 "nbformat_minor": 5
}
