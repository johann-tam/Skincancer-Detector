{
 "cells": [
  {
   "cell_type": "code",
   "execution_count": 1,
   "metadata": {
    "collapsed": true
   },
   "outputs": [],
   "source": [
    "import pandas as pd\n",
    "import numpy as np\n",
    "import matplotlib.pyplot as plt # Import matplotlib for data visualisation\n"
   ]
  },
  {
   "cell_type": "code",
   "execution_count": 2,
   "outputs": [],
   "source": [
    "# import csv file\n",
    "df = pd.read_csv(\"RGB_28x28_complete_greyscale.csv\")"
   ],
   "metadata": {
    "collapsed": false,
    "pycharm": {
     "name": "#%%\n"
    }
   }
  },
  {
   "cell_type": "code",
   "execution_count": 3,
   "outputs": [
    {
     "data": {
      "text/plain": "(9999, 785)"
     },
     "execution_count": 3,
     "metadata": {},
     "output_type": "execute_result"
    }
   ],
   "source": [
    "# check shape of dataframe\n",
    "df.shape"
   ],
   "metadata": {
    "collapsed": false,
    "pycharm": {
     "name": "#%%\n"
    }
   }
  },
  {
   "cell_type": "code",
   "execution_count": 4,
   "outputs": [],
   "source": [
    "# shuffle dataset\n",
    "df = df.sample(frac=1)"
   ],
   "metadata": {
    "collapsed": false,
    "pycharm": {
     "name": "#%%\n"
    }
   }
  },
  {
   "cell_type": "code",
   "execution_count": 5,
   "outputs": [
    {
     "data": {
      "text/plain": "\"\\n# Choose last 15 rows as user input\\nuserInputDf = df.tail(15)\\ndf.drop(df.tail(15).index, inplace=True) # delete user input from original dataframe\\nuserInputDf.to_csv('user-input.csv', encoding='utf-8', index=True) # Safe dataframe with labels\\nuserInputDf.drop(columns='label', axis=1, inplace=True)\\n\\n\\n# Transform dataframe into numpy array\\nuserInputArray = np.array(userInputDf, dtype = 'float32')\\n\\n\\n# generate jpeg images for user input\\nfor i in range(userInputArray.shape[0]):\\n    plt.axis('off')\\n    plt.imshow( userInputArray[i,:].reshape((28,28)), cmap='gray')\\n    plt.savefig('user-input/image-' + str(i) + '.jpg', bbox_inches='tight',pad_inches = 0)\\n\""
     },
     "execution_count": 5,
     "metadata": {},
     "output_type": "execute_result"
    }
   ],
   "source": [
    "## User input\n",
    "\"\"\"\n",
    "# Choose last 15 rows as user input\n",
    "userInputDf = df.tail(15)\n",
    "df.drop(df.tail(15).index, inplace=True) # delete user input from original dataframe\n",
    "userInputDf.to_csv('user-input.csv', encoding='utf-8', index=True) # Safe dataframe with labels\n",
    "userInputDf.drop(columns='label', axis=1, inplace=True)\n",
    "\n",
    "\n",
    "# Transform dataframe into numpy array\n",
    "userInputArray = np.array(userInputDf, dtype = 'float32')\n",
    "\n",
    "\n",
    "# generate jpeg images for user input\n",
    "for i in range(userInputArray.shape[0]):\n",
    "    plt.axis('off')\n",
    "    plt.imshow( userInputArray[i,:].reshape((28,28)), cmap='gray')\n",
    "    plt.savefig('user-input/image-' + str(i) + '.jpg', bbox_inches='tight',pad_inches = 0)\n",
    "\"\"\""
   ],
   "metadata": {
    "collapsed": false,
    "pycharm": {
     "name": "#%%\n"
    }
   }
  },
  {
   "cell_type": "code",
   "execution_count": 6,
   "outputs": [
    {
     "data": {
      "text/plain": "(9999, 785)"
     },
     "execution_count": 6,
     "metadata": {},
     "output_type": "execute_result"
    }
   ],
   "source": [
    "df.shape # verify shape"
   ],
   "metadata": {
    "collapsed": false,
    "pycharm": {
     "name": "#%%\n"
    }
   }
  },
  {
   "cell_type": "code",
   "execution_count": 7,
   "outputs": [],
   "source": [
    "## Extra datasets\n",
    "\n",
    "datasetSize = 1000"
   ],
   "metadata": {
    "collapsed": false,
    "pycharm": {
     "name": "#%%\n"
    }
   }
  },
  {
   "cell_type": "code",
   "execution_count": 8,
   "outputs": [
    {
     "name": "stdout",
     "output_type": "stream",
     "text": [
      "set one:  (1000, 785)\n",
      "train set:  (8999, 785)\n",
      "set two:  (1000, 785)\n",
      "train set:  (7999, 785)\n"
     ]
    }
   ],
   "source": [
    "# Set 1\n",
    "\n",
    "set_one_df = df.tail(datasetSize)\n",
    "df.drop(df.tail(datasetSize).index, inplace=True) # delete set_one_df form original dataset\n",
    "set_one_df.to_csv('set-1.csv', encoding='utf-8', index=False)\n",
    "\n",
    "print('set one: ', set_one_df.shape)\n",
    "print('train set: ', df.shape)\n",
    "\n",
    "\n",
    "# Set 2\n",
    "\n",
    "set_two_df = df.tail(datasetSize)\n",
    "df.drop(df.tail(datasetSize).index, inplace=True) # delete set_one_df form original dataset\n",
    "set_two_df.to_csv('set-2.csv', encoding='utf-8', index=False)\n",
    "\n",
    "print('set two: ', set_two_df.shape)\n",
    "print('train set: ', df.shape)\n",
    "\n",
    "# Train set\n",
    "\n",
    "df.to_csv('train-set.csv', encoding='utf-8', index=False)"
   ],
   "metadata": {
    "collapsed": false,
    "pycharm": {
     "name": "#%%\n"
    }
   }
  },
  {
   "cell_type": "code",
   "execution_count": 8,
   "outputs": [],
   "source": [],
   "metadata": {
    "collapsed": false,
    "pycharm": {
     "name": "#%%\n"
    }
   }
  },
  {
   "cell_type": "code",
   "execution_count": 8,
   "outputs": [],
   "source": [],
   "metadata": {
    "collapsed": false,
    "pycharm": {
     "name": "#%%\n"
    }
   }
  }
 ],
 "metadata": {
  "kernelspec": {
   "display_name": "Python 3",
   "language": "python",
   "name": "python3"
  },
  "language_info": {
   "codemirror_mode": {
    "name": "ipython",
    "version": 2
   },
   "file_extension": ".py",
   "mimetype": "text/x-python",
   "name": "python",
   "nbconvert_exporter": "python",
   "pygments_lexer": "ipython2",
   "version": "2.7.6"
  }
 },
 "nbformat": 4,
 "nbformat_minor": 0
}