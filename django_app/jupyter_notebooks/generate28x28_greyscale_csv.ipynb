{
 "cells": [
  {
   "cell_type": "code",
   "execution_count": 1,
   "metadata": {
    "collapsed": true
   },
   "outputs": [],
   "source": [
    "\"\"\"\n",
    "Original author(s): Johann Tammen\n",
    "Modified by:\n",
    "\n",
    "File purpose: Combine the csv files for each category\n",
    "\"\"\"\n",
    "\n",
    "import numpy as np\n",
    "import pandas as pd"
   ]
  },
  {
   "cell_type": "code",
   "execution_count": 2,
   "outputs": [],
   "source": [
    "#Upload and group the files\n",
    "files_2014 =['RGB_28x28-0-grey.csv',\n",
    "             'RGB_28x28-1-grey.csv',\n",
    "             'RGB_28x28-2-grey.csv',\n",
    "             'RGB_28x28-3-grey.csv',\n",
    "             'RGB_28x28-4-grey.csv',\n",
    "             'RGB_28x28-5-grey.csv',\n",
    "             'RGB_28x28-6-grey.csv',\n",
    "             ]\n",
    "\n",
    "df = pd.DataFrame()\n",
    "\n",
    "# Combine dataframes\n",
    "for file in files_2014:\n",
    "    df_tmp = pd.read_csv(file)\n",
    "    df = pd.concat([df,df_tmp])"
   ],
   "metadata": {
    "collapsed": false,
    "pycharm": {
     "name": "#%%\n"
    }
   }
  },
  {
   "cell_type": "code",
   "execution_count": 3,
   "outputs": [
    {
     "name": "stdout",
     "output_type": "stream",
     "text": [
      "(9999, 785)\n"
     ]
    },
    {
     "data": {
      "text/plain": "4    6701\n6    1111\n2    1097\n1     512\n0     325\n5     140\n3     113\nName: label, dtype: int64"
     },
     "execution_count": 3,
     "metadata": {},
     "output_type": "execute_result"
    }
   ],
   "source": [
    "print(df.shape)\n",
    "# count labels\n",
    "df['label'].value_counts()\n",
    "\n"
   ],
   "metadata": {
    "collapsed": false,
    "pycharm": {
     "name": "#%%\n"
    }
   }
  },
  {
   "cell_type": "code",
   "execution_count": 4,
   "outputs": [],
   "source": [
    "# export to csv\n",
    "df.to_csv('RGB_28x28_complete_greyscale.csv', index=False)"
   ],
   "metadata": {
    "collapsed": false,
    "pycharm": {
     "name": "#%%\n"
    }
   }
  },
  {
   "cell_type": "code",
   "execution_count": 4,
   "outputs": [],
   "source": [],
   "metadata": {
    "collapsed": false,
    "pycharm": {
     "name": "#%%\n"
    }
   }
  }
 ],
 "metadata": {
  "kernelspec": {
   "display_name": "Python 3",
   "language": "python",
   "name": "python3"
  },
  "language_info": {
   "codemirror_mode": {
    "name": "ipython",
    "version": 2
   },
   "file_extension": ".py",
   "mimetype": "text/x-python",
   "name": "python",
   "nbconvert_exporter": "python",
   "pygments_lexer": "ipython2",
   "version": "2.7.6"
  }
 },
 "nbformat": 4,
 "nbformat_minor": 0
}